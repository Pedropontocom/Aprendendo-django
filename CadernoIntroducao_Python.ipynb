{
  "nbformat": 4,
  "nbformat_minor": 0,
  "metadata": {
    "colab": {
      "provenance": [],
      "authorship_tag": "ABX9TyPBLhffTEUO497UZKr+jZhT",
      "include_colab_link": true
    },
    "kernelspec": {
      "name": "python3",
      "display_name": "Python 3"
    },
    "language_info": {
      "name": "python"
    }
  },
  "cells": [
    {
      "cell_type": "markdown",
      "metadata": {
        "id": "view-in-github",
        "colab_type": "text"
      },
      "source": [
        "<a href=\"https://colab.research.google.com/github/Pedropontocom/Aprendendo-django/blob/main/CadernoIntroducao_Python.ipynb\" target=\"_parent\"><img src=\"https://colab.research.google.com/assets/colab-badge.svg\" alt=\"Open In Colab\"/></a>"
      ]
    },
    {
      "cell_type": "markdown",
      "source": [
        "#Aula de lógica de programação"
      ],
      "metadata": {
        "id": "t1IaJyrxjMel"
      }
    },
    {
      "cell_type": "markdown",
      "source": [
        "#introdução"
      ],
      "metadata": {
        "id": "munhXWNOjcD9"
      }
    },
    {
      "cell_type": "code",
      "execution_count": 32,
      "metadata": {
        "colab": {
          "base_uri": "https://localhost:8080/",
          "height": 35
        },
        "id": "kQDFSHtazqx3",
        "outputId": "21d74c7c-4c5e-4e10-8831-e6db0d940a2b"
      },
      "outputs": [
        {
          "output_type": "execute_result",
          "data": {
            "text/plain": [
              "'Pedin'"
            ],
            "application/vnd.google.colaboratory.intrinsic+json": {
              "type": "string"
            }
          },
          "metadata": {},
          "execution_count": 32
        }
      ],
      "source": [
        "\"Pedin\""
      ]
    },
    {
      "cell_type": "code",
      "source": [
        "nome = \"Pedro.com\"\n",
        "print(nome)"
      ],
      "metadata": {
        "colab": {
          "base_uri": "https://localhost:8080/"
        },
        "id": "i9dfl_gg0e83",
        "outputId": "c5ae0d9e-d496-408e-a0d6-8602ac51a443"
      },
      "execution_count": 33,
      "outputs": [
        {
          "output_type": "stream",
          "name": "stdout",
          "text": [
            "Pedro.com\n"
          ]
        }
      ]
    },
    {
      "cell_type": "code",
      "source": [
        "#Variáveis numéricas\n",
        "nota = 9.5\n",
        "idade = 40\n",
        "\n",
        "print(\"idade é\", idade, \"nota é\", nota)\n"
      ],
      "metadata": {
        "colab": {
          "base_uri": "https://localhost:8080/"
        },
        "id": "R-UL51Ue0_R8",
        "outputId": "854bd471-fd36-4f81-8312-29731d76887e"
      },
      "execution_count": 34,
      "outputs": [
        {
          "output_type": "stream",
          "name": "stdout",
          "text": [
            "idade é 40 nota é 9.5\n"
          ]
        }
      ]
    },
    {
      "cell_type": "code",
      "source": [
        "#lendo os dados do teclado\n",
        "nome = input('digite seu nome')\n",
        "\n",
        "print(\"Ola\",nome)\n"
      ],
      "metadata": {
        "colab": {
          "base_uri": "https://localhost:8080/"
        },
        "id": "-laObUUB2iAA",
        "outputId": "344316e4-49f9-4caa-a37c-08ced50bacb0"
      },
      "execution_count": 35,
      "outputs": [
        {
          "output_type": "stream",
          "name": "stdout",
          "text": [
            "digite seu nomertrt\n",
            "Ola rtrt\n"
          ]
        }
      ]
    },
    {
      "cell_type": "code",
      "source": [
        "#somando 2 numeros\n",
        "numero1= int(input(\"digite numero \"))\n",
        "numero2= int(input(\"digite numero \"))\n",
        "\n",
        "print(numero1+numero2)"
      ],
      "metadata": {
        "colab": {
          "base_uri": "https://localhost:8080/",
          "height": 228
        },
        "id": "UHCBtJX339yV",
        "outputId": "d4cff699-05fd-4c73-faaa-2637fc372321"
      },
      "execution_count": 36,
      "outputs": [
        {
          "name": "stdout",
          "output_type": "stream",
          "text": [
            "digite numero erter\n"
          ]
        },
        {
          "output_type": "error",
          "ename": "ValueError",
          "evalue": "invalid literal for int() with base 10: 'erter'",
          "traceback": [
            "\u001b[0;31m---------------------------------------------------------------------------\u001b[0m",
            "\u001b[0;31mValueError\u001b[0m                                Traceback (most recent call last)",
            "\u001b[0;32m/tmp/ipython-input-509809943.py\u001b[0m in \u001b[0;36m<cell line: 0>\u001b[0;34m()\u001b[0m\n\u001b[1;32m      1\u001b[0m \u001b[0;31m#somando 2 numeros\u001b[0m\u001b[0;34m\u001b[0m\u001b[0;34m\u001b[0m\u001b[0m\n\u001b[0;32m----> 2\u001b[0;31m \u001b[0mnumero1\u001b[0m\u001b[0;34m=\u001b[0m \u001b[0mint\u001b[0m\u001b[0;34m(\u001b[0m\u001b[0minput\u001b[0m\u001b[0;34m(\u001b[0m\u001b[0;34m\"digite numero \"\u001b[0m\u001b[0;34m)\u001b[0m\u001b[0;34m)\u001b[0m\u001b[0;34m\u001b[0m\u001b[0;34m\u001b[0m\u001b[0m\n\u001b[0m\u001b[1;32m      3\u001b[0m \u001b[0mnumero2\u001b[0m\u001b[0;34m=\u001b[0m \u001b[0mint\u001b[0m\u001b[0;34m(\u001b[0m\u001b[0minput\u001b[0m\u001b[0;34m(\u001b[0m\u001b[0;34m\"digite numero \"\u001b[0m\u001b[0;34m)\u001b[0m\u001b[0;34m)\u001b[0m\u001b[0;34m\u001b[0m\u001b[0;34m\u001b[0m\u001b[0m\n\u001b[1;32m      4\u001b[0m \u001b[0;34m\u001b[0m\u001b[0m\n\u001b[1;32m      5\u001b[0m \u001b[0mprint\u001b[0m\u001b[0;34m(\u001b[0m\u001b[0mnumero1\u001b[0m\u001b[0;34m+\u001b[0m\u001b[0mnumero2\u001b[0m\u001b[0;34m)\u001b[0m\u001b[0;34m\u001b[0m\u001b[0;34m\u001b[0m\u001b[0m\n",
            "\u001b[0;31mValueError\u001b[0m: invalid literal for int() with base 10: 'erter'"
          ]
        }
      ]
    },
    {
      "cell_type": "code",
      "source": [
        "# Tipos de dados (tipos primitivos)\n",
        "#String - cadeia de caracteres - entre aspas\n",
        "print (type('jaca'))\n",
        "#Números inteiros\n",
        "print(type(8))\n",
        "#Números floats (decimais)\n",
        "print(type(8.5))\n",
        "#Tipos lógicos -> == != >= <= > < and or not\n",
        "print(type(8 > 7))"
      ],
      "metadata": {
        "id": "YNcClKd6kMBW"
      },
      "execution_count": null,
      "outputs": []
    },
    {
      "cell_type": "code",
      "source": [
        "#Peça o nome do usuário e imprima na tela\n",
        "## Olá. fulana! Seja bem-vindo.\n",
        "\n",
        "nome = input(\"Insira seu nome:\")\n",
        "print(f\"Olá, {nome}! Seja bem-vindo.\")"
      ],
      "metadata": {
        "id": "OsiIklxBlSR_"
      },
      "execution_count": null,
      "outputs": []
    },
    {
      "cell_type": "code",
      "source": [
        "#pedir o endereço completo do usuário\n",
        "#vai usar variaveis logradouro, numero, bairro, cidade\n",
        "#printar o endereço completo\n",
        "\n",
        "print(\"informe o seu indereço\")\n",
        "cidade = input('sua sidade: ')\n",
        "logradouro = input('Rua: ')\n",
        "bairro = input('bairro: ')\n",
        "numero = int(input('número: '))\n",
        "\n",
        "print(f\"você mora na cidade {cidade}, rua {logradouro}, bairro {bairro}, número {numero}\")"
      ],
      "metadata": {
        "id": "QfXef8IrnC0_"
      },
      "execution_count": null,
      "outputs": []
    },
    {
      "cell_type": "code",
      "source": [
        "#recebe o nome do usuario e sua nota em uma prova\n",
        "#retorne o nome do usuario + sua nota + 2 pontos\n",
        "#parabéns, fulano! sua nota é 8.\n",
        "\n",
        "nome = input('informe seu nome: ')\n",
        "nota = float(input('Informe sua nota: '))\n",
        "\n",
        "print(f'Parabéns, {nome}! Sua nota atual é {nota+2}')"
      ],
      "metadata": {
        "id": "m2qmbwCFqAQQ"
      },
      "execution_count": null,
      "outputs": []
    },
    {
      "cell_type": "code",
      "source": [
        "#operações matemáticas\n",
        "#Leia dois números e mostre a soma, subtração, multiplicação e divisão\n",
        "print('informe dois números para saber(sua soma, subtração, multiplicação e divisão)')\n",
        "valor1 = float(input('Valor 1: '))\n",
        "valor2 = float(input('Valor 2: '))\n",
        "\n",
        "mais = valor1+valor2\n",
        "menos = valor1-valor2\n",
        "vezes = valor1*valor2\n",
        "dividir = valor1/valor2\n",
        "resto = valor1 % valor2\n",
        "print(f'a soma é {mais}, a subtração {menos}, a multiplicação é  {vezes}, a divisão é {dividir}, o resto é {resto}')"
      ],
      "metadata": {
        "id": "gTpRDTEMtuG0"
      },
      "execution_count": null,
      "outputs": []
    },
    {
      "cell_type": "code",
      "source": [
        "#pida um numero e retorana\n",
        "#o seu dobro, sua metade, e seu quadrado\n",
        "number = float(input('informe um número para saber seu dobro, sua metade, e seu quadrado'))\n",
        "dobro = number*2\n",
        "metade = number/2\n",
        "quadrado = number*number\n",
        "print(f'seu dobro é {dobro}, sua metade é {metade}, seu quadrado é {quadrado}')"
      ],
      "metadata": {
        "id": "bVOCft7LyoJU"
      },
      "execution_count": null,
      "outputs": []
    },
    {
      "cell_type": "code",
      "source": [
        "#estrutura condicionais\n",
        "#if else\n",
        "#se a nota for maior ou igual a 7 - apreovadi\n",
        "\n",
        "nota = float(input('nota: '))\n",
        "if nota >= 7:\n",
        "  print('aprovado')\n",
        "else:\n",
        "  print('reprovado')"
      ],
      "metadata": {
        "id": "KK7eG7ug1tFG"
      },
      "execution_count": null,
      "outputs": []
    },
    {
      "cell_type": "markdown",
      "source": [
        "### Exercícios\n"
      ],
      "metadata": {
        "id": "JAQ6-qf-j6lc"
      }
    },
    {
      "cell_type": "code",
      "source": [
        "# converter moedas\n",
        "# Leia um valor em reias e a cotação do dolar, depois mostre o valor convertido\n",
        "real = float(input('Digite o valor em reais '))\n",
        "dolar = 5.43\n",
        "conversor = real/dolar\n",
        "print(f'você terá {conversor}')"
      ],
      "metadata": {
        "id": "Vy-6B4jMkED7"
      },
      "execution_count": null,
      "outputs": []
    },
    {
      "cell_type": "markdown",
      "source": [],
      "metadata": {
        "id": "kPLszvaaj-7x"
      }
    },
    {
      "cell_type": "code",
      "source": [
        "#saber quanto recebera no mês\n",
        "#  Leia o valor da hora de trabalho e a quantidade de horas trabalhadas no mês, e calcule o salário\n",
        "valor_hora = float(input('Quanto está sua hora? '))\n",
        "quantidade_hora_trabalho = float(input('Quantas horas você trabalha por mês? '))\n",
        "\n",
        "salario = valor_hora*quantidade_hora_trabalho\n",
        "\n",
        "print(f'Seu salário será de R${salario}')"
      ],
      "metadata": {
        "id": "DcYNLHszkDtx"
      },
      "execution_count": null,
      "outputs": []
    },
    {
      "cell_type": "code",
      "source": [
        "#Viagem - velocidade media\n",
        "# Leia a distância percorrida (km) e o tempo gasto (h), e calcule a velocidade média\n",
        "distancia = float(input('distancia percorrida em km '))\n",
        "tempo = float(input('horas usadas '))\n",
        "vm = distancia/tempo\n",
        "print(f'sua velocidade media foi de {vm}km/h')"
      ],
      "metadata": {
        "id": "0taqJDuNnXPK"
      },
      "execution_count": null,
      "outputs": []
    },
    {
      "cell_type": "code",
      "source": [
        "#Conta de lanchonete\n",
        "#Leia o nome de um produto, o preço unitário e a quantidade, depois mostre o valor total da compra\n",
        "produto = input('Nome do produto: ')\n",
        "valor_unidade = float(input('Valor da unidade: '))\n",
        "quantidade_produto = float(input('Quantas unidades você comprou: '))\n",
        "valor_total = valor_unidade*quantidade_produto\n",
        "print(f'{quantidade_produto} de {produto}, custará R${valor_total}')"
      ],
      "metadata": {
        "id": "SZHi19irpUc-"
      },
      "execution_count": null,
      "outputs": []
    },
    {
      "cell_type": "markdown",
      "source": [
        "# Estrutura de controles"
      ],
      "metadata": {
        "id": "oUg94eg3iKbQ"
      }
    },
    {
      "cell_type": "code",
      "source": [
        "#verificação de maior idade\n",
        "idade = 17\n",
        "if idade >= 18:\n",
        "  print('pode dirigir')\n",
        "else:\n",
        "  print('tu sôi de menó!')"
      ],
      "metadata": {
        "id": "EubG5Ez8r0Lp"
      },
      "execution_count": null,
      "outputs": []
    },
    {
      "cell_type": "code",
      "source": [
        "#verificação positivo, negativo ou zero\n",
        "numero = int(input('Digita aí, otáro! '))\n",
        "if numero > 0:\n",
        "  print('é positivo!')\n",
        "elif numero < 0:\n",
        "  print('é negativo!')\n",
        "else:\n",
        "  print('É zero!')"
      ],
      "metadata": {
        "id": "qxz0en_dwlOC"
      },
      "execution_count": null,
      "outputs": []
    },
    {
      "cell_type": "code",
      "source": [
        "# Recebe dois números e diga qual é maior dos dois\n",
        "n1= float(input(\"valor 1: \"))\n",
        "n2 = float(input('valor 2: '))\n",
        "if n1>n2:\n",
        "  print(f'{n1} é maior que {n2}')\n",
        "elif n2>n1:\n",
        "  print(f'{n2} é maior que {n1}')\n",
        "else:\n",
        "  print(f'{n1} é igual á {n2}')"
      ],
      "metadata": {
        "id": "-5T1n7Rnx_WI"
      },
      "execution_count": null,
      "outputs": []
    },
    {
      "cell_type": "code",
      "source": [
        "#receba um numero e diz se é para or impar\n",
        "\n",
        "valor_imPar = int(input('digite um número inteiro: '))\n",
        "if valor_imPar%2==0:\n",
        "  print('seu valor é par')\n",
        "else:\n",
        "  print('seu valor é impar')"
      ],
      "metadata": {
        "id": "iF66Ylvn1uva"
      },
      "execution_count": null,
      "outputs": []
    },
    {
      "cell_type": "code",
      "source": [
        "##parentesis\n",
        "#tamanho de string\n",
        "#len ler a quantidade de letras da string\n",
        "nome = 'epaminondas'\n",
        "\n",
        "print(type(nome)) #imprime o tipo da variavel\n",
        "print(len(nome)) #imprime o tamanho da variavel\n",
        "print(nome)\n",
        "print(nome=='Toin')\n",
        "print(nome=='epaminondas')"
      ],
      "metadata": {
        "id": "_PD5SzxE3vsV"
      },
      "execution_count": null,
      "outputs": []
    },
    {
      "cell_type": "code",
      "source": [
        "#defina uma senha e então pida para o usuario\n",
        "#digitar a senha\n",
        "#se for correta, imprima 'acesso liberado'\n",
        "#senão, imprima 'senha incorreta, mizeravel'\n",
        "\n",
        "senha = 'senha'\n",
        "usuario = input('digite a senha: ')\n",
        "\n",
        "if senha == usuario:\n",
        "  print('Acesso liberado')\n",
        "else:\n",
        "  print('Senha incorreta, deploravel mizeravel de meia tigela')"
      ],
      "metadata": {
        "id": "Bi8vmJul4uID"
      },
      "execution_count": null,
      "outputs": []
    },
    {
      "cell_type": "code",
      "source": [
        "#escreva um mine sistema para criação de senha\n",
        "#pida ao usuario que digite a senha\n",
        "#ela deve ter, no minimo 6 caracteres\n",
        "#o usuario deve comnfirmar a senha digitando duas vezes\n",
        "senha = input('digite uma senha: ')\n",
        "if len(senha)>=6:\n",
        "  n_senha = input('digite sua senha novamente: ')\n",
        "  if senha==n_senha:\n",
        "    print('senha confirmada')\n",
        "  else:\n",
        "    print('senha errada')\n",
        "else:\n",
        "  print('sua senha tem menos de 6 digitos')"
      ],
      "metadata": {
        "id": "9FIA-fV17kI9"
      },
      "execution_count": null,
      "outputs": []
    },
    {
      "cell_type": "markdown",
      "source": [
        "# laços"
      ],
      "metadata": {
        "id": "_LnvBuVQr4AB"
      }
    },
    {
      "cell_type": "code",
      "source": [
        "#range(inicio, fim, passo) como no java for(int i = 1; i<8; i++){}\n",
        "for i in range(1, 8, 2):\n",
        "  print(i)"
      ],
      "metadata": {
        "id": "8FErYpFs0n5R"
      },
      "execution_count": null,
      "outputs": []
    },
    {
      "cell_type": "code",
      "source": [
        "for i in range(8):\n",
        "  print(i)"
      ],
      "metadata": {
        "id": "xbVQpFZT2sLV"
      },
      "execution_count": null,
      "outputs": []
    },
    {
      "cell_type": "code",
      "source": [
        "# printar todos os numeros de 10 a 25\n",
        "# printar todos os numeros pares de 0 a 50\n",
        "# printar todos os numeros de 10 a 1 (regressivo)\n",
        "# mostrar a soma de todos os numeros de um intervalo, inserido pelo usuario\n",
        "\n",
        "# for i in range(10, 26, 1):\n",
        "#   print(i)\n",
        "\n",
        "# for i in range(0, 51, 2):\n",
        "#   print(i)\n",
        "\n",
        "# for i in range(0, 51, 2):\n",
        "#   if(i%2==0):\n",
        "#     print(i)\n",
        "\n",
        "\n",
        "# for i in range(11, 0, -1):\n",
        "#   print(i)\n",
        "\n",
        "entrada1 = int(input(\"Digite primeiro número: \"))\n",
        "entrada2 = int(input(\"Digite o segundo número: \"))\n",
        "soma = 0\n",
        "for i in range(entrada1, entrada2+1):\n",
        "  soma += i\n",
        "print(\"A soma do intervalo de\", entrada1, \"até\", entrada2, \"é\", soma)"
      ],
      "metadata": {
        "id": "DxBfpSDg26os"
      },
      "execution_count": null,
      "outputs": []
    },
    {
      "cell_type": "code",
      "source": [
        "# pega um range de valores entre 1 - 20\n",
        "# e printar informando se é par ou impar\n",
        "# ex: 1 é impar\n",
        "for i in range(1, 21):\n",
        "  if(i%2==0):\n",
        "    print(i, \"é par\")\n",
        "  else:\n",
        "    print(i, \"é impar\")"
      ],
      "metadata": {
        "id": "5qfG9Ok39wuU"
      },
      "execution_count": null,
      "outputs": []
    },
    {
      "cell_type": "code",
      "source": [
        "# Pecorrer a lista com FOR\n",
        "carros = ['chevete', 'fusca', 'variant', 'lada']\n",
        "\n",
        "for carro in carros:\n",
        "  print(carro)"
      ],
      "metadata": {
        "colab": {
          "base_uri": "https://localhost:8080/"
        },
        "id": "HtYGb0v0Bk8J",
        "outputId": "3674a2f6-3f14-4a0b-866b-a9e0c1c47465"
      },
      "execution_count": 37,
      "outputs": [
        {
          "output_type": "stream",
          "name": "stdout",
          "text": [
            "chevete\n",
            "fusca\n",
            "variant\n",
            "lada\n"
          ]
        }
      ]
    },
    {
      "cell_type": "code",
      "source": [
        "# Laço Whike - enquanto"
      ],
      "metadata": {
        "id": "T8sWvMC3CD53"
      },
      "execution_count": null,
      "outputs": []
    },
    {
      "cell_type": "code",
      "source": [
        "i = 1\n",
        "while(i <= 5):\n",
        "  print(i)\n",
        "  i+=1\n",
        "#incremento\n",
        "#soma = soma + 1\n",
        "#soma += 1"
      ],
      "metadata": {
        "colab": {
          "base_uri": "https://localhost:8080/"
        },
        "id": "v90Fb5BSCYPG",
        "outputId": "01c3b9c9-5f89-4592-f6c0-84311d596eed"
      },
      "execution_count": 38,
      "outputs": [
        {
          "output_type": "stream",
          "name": "stdout",
          "text": [
            "1\n",
            "2\n",
            "3\n",
            "4\n",
            "5\n"
          ]
        }
      ]
    },
    {
      "cell_type": "code",
      "source": [
        "senha = \"\"\n",
        "\n",
        "while(senha!=\"123\"):\n",
        "  senha = input('digite a senha ')\n",
        "print(\"liberado 😏\")"
      ],
      "metadata": {
        "colab": {
          "base_uri": "https://localhost:8080/"
        },
        "id": "Iiyr3D0cC8wc",
        "outputId": "0c5183a0-1dff-4690-fd5d-55fe5cee55da"
      },
      "execution_count": 39,
      "outputs": [
        {
          "output_type": "stream",
          "name": "stdout",
          "text": [
            "digite a senha 123\n",
            "liberado 😏\n"
          ]
        }
      ]
    },
    {
      "cell_type": "code",
      "source": [
        "valor = 1\n",
        "\n",
        "while(valor!=0):\n",
        "  print(valor, \"é valor diferente de zero\")\n",
        "  valor = int(input('digite um número, zero sai: '))\n",
        "print('digitasse zero, otario!')"
      ],
      "metadata": {
        "colab": {
          "base_uri": "https://localhost:8080/"
        },
        "id": "lCkNZerjD-w6",
        "outputId": "f70b1a4c-2cd5-4f98-ea6c-e58bf59c1a9f"
      },
      "execution_count": 42,
      "outputs": [
        {
          "output_type": "stream",
          "name": "stdout",
          "text": [
            "1 é valor diferente de zero\n",
            "digite um número, zero sai: 5\n",
            "5 é valor diferente de zero\n",
            "digite um número, zero sai: 4\n",
            "4 é valor diferente de zero\n",
            "digite um número, zero sai: 0\n",
            "digitasse zero, otario!\n"
          ]
        }
      ]
    },
    {
      "cell_type": "code",
      "source": [
        " #incremente o código anterior para que leia\n",
        " #os números que o usuário digitou e os some\n",
        " #quando o usuário digitar 0, sai e exibe o somatorio\n",
        "\n",
        "valor = 1\n",
        "soma = 0\n",
        "while(valor!=0):\n",
        "  valor = int(input('digite um número, zero sai: '))\n",
        "  soma+=valor\n",
        "print('digitasse zero, otario!')\n",
        "print('a soma é', soma)"
      ],
      "metadata": {
        "colab": {
          "base_uri": "https://localhost:8080/"
        },
        "id": "LA4kKO-jE3GQ",
        "outputId": "7ea19303-790f-4b16-88ca-edcd498142d7"
      },
      "execution_count": 46,
      "outputs": [
        {
          "output_type": "stream",
          "name": "stdout",
          "text": [
            "digite um número, zero sai: 5\n",
            "digite um número, zero sai: 1\n",
            "digite um número, zero sai: 0\n",
            "digitasse zero, otario!\n",
            "a soma é 6\n"
          ]
        }
      ]
    },
    {
      "cell_type": "markdown",
      "source": [],
      "metadata": {
        "id": "-tWZQdP50Y05"
      }
    }
  ]
}